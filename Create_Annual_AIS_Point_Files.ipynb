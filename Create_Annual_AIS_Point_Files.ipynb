{
 "cells": [
  {
   "cell_type": "markdown",
   "id": "e93a6cad-257c-4403-9cd1-685bf72ded0c",
   "metadata": {},
   "source": [
    "A common task after receiving daily or monthly AIS files for a given area is to combine those csvs in to one file that covers a year's worth of time. \n",
    "\n",
    "This script is designed to make the creation of the annual AIS point csvs really fast by using lists of files and lists of dataframes and then concatenating the data frames (daily or monthly in duration) in to an annual file.\n",
    "\n",
    "For this script to work, the individual csvs need to contained in a directory named for the year that the individual csvs represent."
   ]
  },
  {
   "cell_type": "code",
   "execution_count": null,
   "id": "cd7bae9b-37fe-4896-9046-0f220f136c04",
   "metadata": {},
   "outputs": [],
   "source": [
    "i = 0\n",
    "# Walk through each BDC source subfolder \n",
    "for folders in bdc_subfolders:\n",
    "    # Reset list variables for each annual subfolder in the big data connection \n",
    "    list_of_files = []\n",
    "    list_of_dataframes = []\n",
    "    # iterate over each file \"f\" in the bdc_subfolder folders that end with *.csv\n",
    "    for f in folders.glob(\"*.csv\"):\n",
    "        # Read the annual AIS files in to a dataframe and append it to a list of dataframes\n",
    "        list_of_dataframes.append(pd.read_csv(f))\n",
    "    # Combine the individual dataframes in the \"list_of_dataframes\" in to one annual df    \n",
    "    annual_df = pd.concat(list_of_dataframes)\n",
    "    # Write the concatenated annual df to a csv in the annual_ais_csvs directory provided \n",
    "    annual_df.to_csv(annual_ais_csvs + \"AIS_PR_\" + bdc_years[i] + \"_All.csv\", index=False)\n",
    "    i += 1"
   ]
  }
 ],
 "metadata": {
  "kernelspec": {
   "display_name": "Python 3",
   "language": "python",
   "name": "python3"
  },
  "language_info": {
   "codemirror_mode": {
    "name": "ipython",
    "version": 3
   },
   "file_extension": ".py",
   "mimetype": "text/x-python",
   "name": "python",
   "nbconvert_exporter": "python",
   "pygments_lexer": "ipython3",
   "version": "3.9.11"
  }
 },
 "nbformat": 4,
 "nbformat_minor": 5
}
