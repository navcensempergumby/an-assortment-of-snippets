{
 "cells": [
  {
   "cell_type": "markdown",
   "id": "359673e8-19e0-4c62-8f91-b4a15a5570d3",
   "metadata": {},
   "source": [
    "Translate Marine Cadastre 4-digit vessel type (ShipType) codes to standard AIS encoding guide 2-digit SHIP_AND_CARGO_TYPE codes.  \n",
    "\n",
    "The logic assumes that the 2-digit code, when present in the 2015, 2016, or 2017 data in the \"Cargo\" column is probably the better indicator of what the vessel operator thought their vessel type was.  After making the substitution, replace any remaining 4-digit codes with the corresponding 2-digit code.\n",
    "\n",
    "This script should be run BEFORE using the ITU List V clean-up routine."
   ]
  },
  {
   "cell_type": "code",
   "execution_count": null,
   "id": "9c4a4e63-4052-4375-b88b-2c12be61b332",
   "metadata": {},
   "outputs": [],
   "source": [
    "# Overwrite 4-digit NOAA VesselType with 2-digit AIS ShipType code\n",
    "    df.loc[(df.Cargo > 0), \"VesselType\"] = df.Cargo\n",
    "\n",
    "# Replace remaining 4-digit NOAA VesselType with 2-digit AIS ShipType code\n",
    "    df = df.replace({\"VesselType\":{1001:30,1002:30,1003:70,1004:70,1005:53,1006:90,1007:90,1008:90,\n",
    "                               1009:90,1010:53,1011:54,1012:60,1013:60,1014:60,1015:60,1016:70,\n",
    "                               1017:80,1018:90,1019:37,1020:33,1021:90,1022:90,1023:80,1024:80,1025:31}})"
   ]
  }
 ],
 "metadata": {
  "kernelspec": {
   "display_name": "Python 3",
   "language": "python",
   "name": "python3"
  },
  "language_info": {
   "codemirror_mode": {
    "name": "ipython",
    "version": 3
   },
   "file_extension": ".py",
   "mimetype": "text/x-python",
   "name": "python",
   "nbconvert_exporter": "python",
   "pygments_lexer": "ipython3",
   "version": "3.9.11"
  }
 },
 "nbformat": 4,
 "nbformat_minor": 5
}
